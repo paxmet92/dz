{
 "cells": [
  {
   "cell_type": "markdown",
   "metadata": {
    "toc": "true"
   },
   "source": [
    "# Table of Contents\n",
    " <p><div class=\"lev1 toc-item\"><a href=\"#Применение-алгоритмов-машинного-обучения-для-задачи-банковского-скоринга\" data-toc-modified-id=\"Применение-алгоритмов-машинного-обучения-для-задачи-банковского-скоринга-1\"><span class=\"toc-item-num\">1&nbsp;&nbsp;</span>Применение алгоритмов машинного обучения для задачи банковского скоринга</a></div>"
   ]
  },
  {
   "cell_type": "markdown",
   "metadata": {},
   "source": [
    "# Применение алгоритмов машинного обучения для задачи банковского скоринга"
   ]
  },
  {
   "cell_type": "markdown",
   "metadata": {},
   "source": [
    "Входными данными являются наборы для обучения и для тестирования:\n",
    "* bank_scoring_train.csv.gz\n",
    "* bank_scoring_test.csv.gz"
   ]
  },
  {
   "cell_type": "markdown",
   "metadata": {
    "collapsed": true
   },
   "source": [
    "Описание полей:\n",
    "* SeriousDlqin2yrs - Флаг выхода на просрочку через 90 дней\n",
    "* RevolvingUtilizationOfUnsecuredLines - Общий баланс по кредитным картам и личным кредитным линиям, за исключением недвижимости, и без задолженности по кредитам, таким как автокредиты, деленные на сумму кредитных лимитов\n",
    "* age - Возраст заёмщика в годах\n",
    "* NumberOfTime30-59DaysPastDueNotWorse - Сколько раз заемщик просрочил выплату не более, чем на 30-59 дней, за последние 2 года.\n",
    "* DebtRatio - Ежемесячные платежи по долгам, алименты и прожиточные расходы, делённые на месячный валовый доход\n",
    "* MonthlyIncome - Ежемесячный доход\n",
    "* NumberOfOpenCreditLinesAndLoans - Количество открытых кредитов (например, автокредит или закладная, кредитные карты и т.д.)\n",
    "* NumberOfTimes90DaysLate - Сколько раз заёмщик просрочил выплату на 90 дней и более.\n",
    "* NumberRealEstateLoansOrLines - Количество ипотечных кредитов и кредитов на недвижимость\n",
    "* NumberOfTime60-89DaysPastDueNotWorse - Сколько раз заёмщик просрочил выплату не более, чем на 60-89 дней, за последние 2 года.\n",
    "* NumberOfDependents - Количество иждивенцев в семье, исключая самого заёмщика (супруга, дети и т.д.)"
   ]
  },
  {
   "cell_type": "markdown",
   "metadata": {},
   "source": [
    "Целевой переменной является SeriousDlqin2yrs"
   ]
  },
  {
   "cell_type": "markdown",
   "metadata": {},
   "source": [
    "** Рекомендации по использованию моделей, метрик и кросс-валидации представлены в compare_algorithms_emp **"
   ]
  },
  {
   "cell_type": "code",
   "execution_count": 1,
   "metadata": {
    "collapsed": true
   },
   "outputs": [],
   "source": [
    "import numpy as np\n",
    "import pandas as pd\n",
    "import matplotlib.pyplot as plt"
   ]
  },
  {
   "cell_type": "code",
   "execution_count": 2,
   "metadata": {
    "collapsed": true
   },
   "outputs": [],
   "source": [
    "%matplotlib inline"
   ]
  },
  {
   "cell_type": "code",
   "execution_count": 3,
   "metadata": {
    "collapsed": true
   },
   "outputs": [],
   "source": [
    "data1 = pd.read_csv(\"bank_scoring_train.csv\", sep='\\t')"
   ]
  },
  {
   "cell_type": "code",
   "execution_count": 4,
   "metadata": {},
   "outputs": [
    {
     "data": {
      "text/html": [
       "<div>\n",
       "<style>\n",
       "    .dataframe thead tr:only-child th {\n",
       "        text-align: right;\n",
       "    }\n",
       "\n",
       "    .dataframe thead th {\n",
       "        text-align: left;\n",
       "    }\n",
       "\n",
       "    .dataframe tbody tr th {\n",
       "        vertical-align: top;\n",
       "    }\n",
       "</style>\n",
       "<table border=\"1\" class=\"dataframe\">\n",
       "  <thead>\n",
       "    <tr style=\"text-align: right;\">\n",
       "      <th></th>\n",
       "      <th>SeriousDlqin2yrs</th>\n",
       "      <th>RevolvingUtilizationOfUnsecuredLines</th>\n",
       "      <th>age</th>\n",
       "      <th>NumberOfTime30-59DaysPastDueNotWorse</th>\n",
       "      <th>DebtRatio</th>\n",
       "      <th>MonthlyIncome</th>\n",
       "      <th>NumberOfOpenCreditLinesAndLoans</th>\n",
       "      <th>NumberOfTimes90DaysLate</th>\n",
       "      <th>NumberRealEstateLoansOrLines</th>\n",
       "      <th>NumberOfTime60-89DaysPastDueNotWorse</th>\n",
       "      <th>NumberOfDependents</th>\n",
       "    </tr>\n",
       "  </thead>\n",
       "  <tbody>\n",
       "    <tr>\n",
       "      <th>0</th>\n",
       "      <td>0</td>\n",
       "      <td>0.975614</td>\n",
       "      <td>39</td>\n",
       "      <td>1</td>\n",
       "      <td>0.678552</td>\n",
       "      <td>1850.0</td>\n",
       "      <td>4</td>\n",
       "      <td>0</td>\n",
       "      <td>0</td>\n",
       "      <td>0</td>\n",
       "      <td>3.0</td>\n",
       "    </tr>\n",
       "    <tr>\n",
       "      <th>1</th>\n",
       "      <td>0</td>\n",
       "      <td>0.006634</td>\n",
       "      <td>75</td>\n",
       "      <td>0</td>\n",
       "      <td>0.082087</td>\n",
       "      <td>10500.0</td>\n",
       "      <td>21</td>\n",
       "      <td>0</td>\n",
       "      <td>1</td>\n",
       "      <td>0</td>\n",
       "      <td>0.0</td>\n",
       "    </tr>\n",
       "    <tr>\n",
       "      <th>2</th>\n",
       "      <td>0</td>\n",
       "      <td>0.227432</td>\n",
       "      <td>48</td>\n",
       "      <td>1</td>\n",
       "      <td>0.202145</td>\n",
       "      <td>6059.0</td>\n",
       "      <td>9</td>\n",
       "      <td>0</td>\n",
       "      <td>1</td>\n",
       "      <td>0</td>\n",
       "      <td>3.0</td>\n",
       "    </tr>\n",
       "    <tr>\n",
       "      <th>3</th>\n",
       "      <td>0</td>\n",
       "      <td>0.290217</td>\n",
       "      <td>59</td>\n",
       "      <td>0</td>\n",
       "      <td>0.674392</td>\n",
       "      <td>4400.0</td>\n",
       "      <td>6</td>\n",
       "      <td>0</td>\n",
       "      <td>2</td>\n",
       "      <td>0</td>\n",
       "      <td>0.0</td>\n",
       "    </tr>\n",
       "    <tr>\n",
       "      <th>4</th>\n",
       "      <td>0</td>\n",
       "      <td>0.000000</td>\n",
       "      <td>80</td>\n",
       "      <td>0</td>\n",
       "      <td>0.000000</td>\n",
       "      <td>2596.0</td>\n",
       "      <td>2</td>\n",
       "      <td>0</td>\n",
       "      <td>0</td>\n",
       "      <td>0</td>\n",
       "      <td>1.0</td>\n",
       "    </tr>\n",
       "  </tbody>\n",
       "</table>\n",
       "</div>"
      ],
      "text/plain": [
       "   SeriousDlqin2yrs  RevolvingUtilizationOfUnsecuredLines  age  \\\n",
       "0                 0                              0.975614   39   \n",
       "1                 0                              0.006634   75   \n",
       "2                 0                              0.227432   48   \n",
       "3                 0                              0.290217   59   \n",
       "4                 0                              0.000000   80   \n",
       "\n",
       "   NumberOfTime30-59DaysPastDueNotWorse  DebtRatio  MonthlyIncome  \\\n",
       "0                                     1   0.678552         1850.0   \n",
       "1                                     0   0.082087        10500.0   \n",
       "2                                     1   0.202145         6059.0   \n",
       "3                                     0   0.674392         4400.0   \n",
       "4                                     0   0.000000         2596.0   \n",
       "\n",
       "   NumberOfOpenCreditLinesAndLoans  NumberOfTimes90DaysLate  \\\n",
       "0                                4                        0   \n",
       "1                               21                        0   \n",
       "2                                9                        0   \n",
       "3                                6                        0   \n",
       "4                                2                        0   \n",
       "\n",
       "   NumberRealEstateLoansOrLines  NumberOfTime60-89DaysPastDueNotWorse  \\\n",
       "0                             0                                     0   \n",
       "1                             1                                     0   \n",
       "2                             1                                     0   \n",
       "3                             2                                     0   \n",
       "4                             0                                     0   \n",
       "\n",
       "   NumberOfDependents  \n",
       "0                 3.0  \n",
       "1                 0.0  \n",
       "2                 3.0  \n",
       "3                 0.0  \n",
       "4                 1.0  "
      ]
     },
     "execution_count": 4,
     "metadata": {},
     "output_type": "execute_result"
    }
   ],
   "source": [
    "data1.head()"
   ]
  },
  {
   "cell_type": "code",
   "execution_count": 5,
   "metadata": {
    "collapsed": true
   },
   "outputs": [],
   "source": [
    "X = data1.drop(['SeriousDlqin2yrs'], axis=1)\n",
    "y = data1['SeriousDlqin2yrs']"
   ]
  },
  {
   "cell_type": "code",
   "execution_count": 6,
   "metadata": {
    "collapsed": true
   },
   "outputs": [],
   "source": [
    "from sklearn.model_selection import train_test_split"
   ]
  },
  {
   "cell_type": "code",
   "execution_count": 7,
   "metadata": {},
   "outputs": [
    {
     "name": "stdout",
     "output_type": "stream",
     "text": [
      "(64464, 10)\n",
      "(31752, 10)\n"
     ]
    }
   ],
   "source": [
    "X_train, X_test, y_train, y_test = train_test_split(\n",
    "    X, y, test_size=0.33, random_state=42)\n",
    "print (X_train.shape)\n",
    "print (X_test.shape)"
   ]
  },
  {
   "cell_type": "code",
   "execution_count": 8,
   "metadata": {
    "collapsed": true
   },
   "outputs": [],
   "source": [
    "from sklearn.neighbors import KNeighborsClassifier\n",
    "from sklearn.tree import DecisionTreeClassifier\n",
    "from sklearn.linear_model import LogisticRegression\n",
    "from sklearn.svm import SVC"
   ]
  },
  {
   "cell_type": "code",
   "execution_count": 9,
   "metadata": {},
   "outputs": [
    {
     "data": {
      "text/plain": [
       "array([[ -3.48166512e-05,  -2.74079040e-02,   5.42373858e-01,\n",
       "         -1.01271588e-04,  -3.53645996e-05,   2.93538422e-03,\n",
       "          5.34222081e-01,   1.04624679e-01,   7.74653139e-02,\n",
       "          8.61587481e-02]])"
      ]
     },
     "execution_count": 9,
     "metadata": {},
     "output_type": "execute_result"
    }
   ],
   "source": [
    "log_regression = LogisticRegression(penalty='l2',class_weight='balanced')\n",
    "log_regression.fit(X_train, y_train)\n",
    "pred_train = log_regression.predict_proba(X_train)[:,1]\n",
    "prediction = log_regression.predict_proba(X_test)[:,1]\n",
    "log_regression.coef_"
   ]
  },
  {
   "cell_type": "code",
   "execution_count": 10,
   "metadata": {
    "collapsed": true
   },
   "outputs": [],
   "source": [
    "from sklearn import metrics "
   ]
  },
  {
   "cell_type": "code",
   "execution_count": 11,
   "metadata": {},
   "outputs": [
    {
     "data": {
      "text/plain": [
       "(0.7852564068621255, 0.79718581731202298)"
      ]
     },
     "execution_count": 11,
     "metadata": {},
     "output_type": "execute_result"
    }
   ],
   "source": [
    "metrics.roc_auc_score(y_train, pred_train), metrics.roc_auc_score(y_test, prediction)"
   ]
  },
  {
   "cell_type": "code",
   "execution_count": 12,
   "metadata": {
    "collapsed": true
   },
   "outputs": [],
   "source": [
    "data2 = pd.read_csv(\"bank_scoring_test.csv\", sep='\\t')\n",
    "X_test_end = data2.drop(['SeriousDlqin2yrs'], axis=1)\n",
    "y_test_end = data2['SeriousDlqin2yrs']"
   ]
  },
  {
   "cell_type": "code",
   "execution_count": 13,
   "metadata": {
    "collapsed": true
   },
   "outputs": [],
   "source": [
    "prediction_end = log_regression.predict(X_test_end)\n",
    "prediction_proba_end = log_regression.predict_proba(X_test_end)"
   ]
  },
  {
   "cell_type": "code",
   "execution_count": 14,
   "metadata": {},
   "outputs": [
    {
     "name": "stdout",
     "output_type": "stream",
     "text": [
      "             precision    recall  f1-score   support\n",
      "\n",
      "          0     0.9671    0.7945    0.8724     22407\n",
      "          1     0.1843    0.6318    0.2853      1646\n",
      "\n",
      "avg / total     0.9135    0.7834    0.8322     24053\n",
      "\n",
      "roc_auc 0.713181623235 0.787037644079\n",
      "log_loss 0.580186799558\n"
     ]
    }
   ],
   "source": [
    "print(metrics.classification_report(y_test_end, prediction_end, digits=4))\n",
    "print('roc_auc', metrics.roc_auc_score(y_test_end, prediction_end), metrics.roc_auc_score(y_test_end, prediction_proba_end[:,1]))\n",
    "print('log_loss', metrics.log_loss(y_test_end, prediction_proba_end))"
   ]
  },
  {
   "cell_type": "code",
   "execution_count": 15,
   "metadata": {
    "collapsed": true
   },
   "outputs": [],
   "source": [
    "def pred(clf):\n",
    "    clf.fit(X_train, y_train)\n",
    "    \n",
    "    pred_train = clf.predict(X_train)\n",
    "    prediction = clf.predict(X_test)\n",
    "    \n",
    "    pred_p_train = clf.predict_proba(X_train)[:,1]\n",
    "    prediction_p = clf.predict_proba(X_test)[:,1]\n",
    "    print('Train_file')\n",
    "    print(metrics.classification_report(y_train, pred_train, digits=4), metrics.classification_report(y_test, prediction, digits=4))\n",
    "    print(metrics.roc_auc_score(y_train, pred_p_train), metrics.roc_auc_score(y_test, prediction_p))\n",
    "\n",
    "    prediction_end = clf.predict(X_test_end)\n",
    "    prediction_proba_end = clf.predict_proba(X_test_end)\n",
    "    print('\\nTest_file')\n",
    "    print(metrics.classification_report(y_test_end, prediction_end, digits=4))\n",
    "    print('roc_auc', metrics.roc_auc_score(y_test_end, prediction_end), metrics.roc_auc_score(y_test_end, prediction_proba_end[:,1]))\n",
    "    print('log_loss', metrics.log_loss(y_test_end, prediction_proba_end))"
   ]
  },
  {
   "cell_type": "code",
   "execution_count": 33,
   "metadata": {},
   "outputs": [
    {
     "name": "stdout",
     "output_type": "stream",
     "text": [
      "Train_file\n",
      "             precision    recall  f1-score   support\n",
      "\n",
      "          0     0.9433    0.9951    0.9685     60011\n",
      "          1     0.7446    0.1938    0.3076      4453\n",
      "\n",
      "avg / total     0.9296    0.9397    0.9228     64464\n",
      "              precision    recall  f1-score   support\n",
      "\n",
      "          0     0.9354    0.9903    0.9621     29581\n",
      "          1     0.3417    0.0686    0.1143      2171\n",
      "\n",
      "avg / total     0.8948    0.9273    0.9041     31752\n",
      "\n",
      "0.956616852073 0.721409907897\n",
      "\n",
      "Test_file\n",
      "             precision    recall  f1-score   support\n",
      "\n",
      "          0     0.9357    0.9911    0.9626     22407\n",
      "          1     0.3769    0.0735    0.1230      1646\n",
      "\n",
      "avg / total     0.8975    0.9283    0.9052     24053\n",
      "\n",
      "roc_auc 0.532292880507 0.712088960548\n",
      "log_loss 1.09147405232\n"
     ]
    }
   ],
   "source": [
    "k_neighbors = KNeighborsClassifier(n_neighbors=5)\n",
    "pred(k_neighbors)"
   ]
  },
  {
   "cell_type": "code",
   "execution_count": 16,
   "metadata": {},
   "outputs": [
    {
     "name": "stdout",
     "output_type": "stream",
     "text": [
      "Train_file\n",
      "             precision    recall  f1-score   support\n",
      "\n",
      "          0     0.9811    0.7627    0.8582     60011\n",
      "          1     0.2005    0.8017    0.3207      4453\n",
      "\n",
      "avg / total     0.9272    0.7654    0.8211     64464\n",
      "              precision    recall  f1-score   support\n",
      "\n",
      "          0     0.9782    0.7529    0.8509     29581\n",
      "          1     0.1865    0.7715    0.3003      2171\n",
      "\n",
      "avg / total     0.9241    0.7542    0.8133     31752\n",
      "\n",
      "0.860048283011 0.832611799334\n",
      "\n",
      "Test_file\n",
      "             precision    recall  f1-score   support\n",
      "\n",
      "          0     0.9806    0.7593    0.8559     22407\n",
      "          1     0.1954    0.7959    0.3138      1646\n",
      "\n",
      "avg / total     0.9269    0.7618    0.8188     24053\n",
      "\n",
      "roc_auc 0.777592528936 0.838059551235\n",
      "log_loss 0.495705938517\n"
     ]
    }
   ],
   "source": [
    "decision_tree = DecisionTreeClassifier(max_depth=7, class_weight='balanced')\n",
    "pred(decision_tree)"
   ]
  },
  {
   "cell_type": "code",
   "execution_count": 18,
   "metadata": {
    "collapsed": true
   },
   "outputs": [],
   "source": [
    "import sklearn.ensemble"
   ]
  },
  {
   "cell_type": "code",
   "execution_count": 23,
   "metadata": {},
   "outputs": [
    {
     "name": "stdout",
     "output_type": "stream",
     "text": [
      "Score Random Forest n_trees=10: 0.316431706051\n",
      "Score Random Forest n_trees=100: 0.178251775264\n",
      "Score Random Forest n_trees=1000: 0.163012250104\n"
     ]
    }
   ],
   "source": [
    "clf_rf_10 = sklearn.ensemble.RandomForestClassifier(n_estimators=10, min_samples_split=8, min_samples_leaf=4, max_features=10, random_state=0)\n",
    "clf_rf_100 = sklearn.ensemble.RandomForestClassifier(n_estimators=100, min_samples_split=8, min_samples_leaf=4, max_features=10, random_state=0)\n",
    "clf_rf_1000 = sklearn.ensemble.RandomForestClassifier(n_estimators=1000, min_samples_split=8, min_samples_leaf=4, max_features=10, random_state=0)\n",
    "\n",
    "\n",
    "clf_rf_10.fit(X_train, y_train)\n",
    "clf_rf_100.fit(X_train, y_train)\n",
    "clf_rf_1000.fit(X_train, y_train)\n",
    "\n",
    "pred_10 = clf_rf_10.predict_proba(X_test_end)\n",
    "pred_100 = clf_rf_100.predict_proba(X_test_end)\n",
    "pred_1000 = clf_rf_1000.predict_proba(X_test_end)\n",
    "\n",
    "score_10 = sklearn.metrics.log_loss(y_test_end, pred_10)\n",
    "score_100 = sklearn.metrics.log_loss(y_test_end, pred_100)\n",
    "score_1000 = sklearn.metrics.log_loss(y_test_end, pred_1000)\n",
    "\n",
    "print('Score Random Forest n_trees=10: %s' % (score_10))\n",
    "print('Score Random Forest n_trees=100: %s' % (score_100))\n",
    "print('Score Random Forest n_trees=1000: %s' % (score_1000))"
   ]
  },
  {
   "cell_type": "code",
   "execution_count": 24,
   "metadata": {},
   "outputs": [
    {
     "name": "stdout",
     "output_type": "stream",
     "text": [
      "Score Gradient Boosting: 0.188104710037\n"
     ]
    }
   ],
   "source": [
    "clf_gbm = sklearn.ensemble.GradientBoostingClassifier(learning_rate=0.03, n_estimators=100, subsample=0.9, min_samples_split=8, min_samples_leaf=4, max_depth=3, max_features=8, random_state=0)\n",
    "\n",
    "clf_gbm.fit(X_train, y_train)\n",
    "\n",
    "pred_gbm = clf_gbm.predict_proba(X_test_end)\n",
    "\n",
    "score_gbm = sklearn.metrics.log_loss(y_test_end, pred_gbm)\n",
    "\n",
    "print('Score Gradient Boosting: %s' % (score_gbm))"
   ]
  },
  {
   "cell_type": "code",
   "execution_count": null,
   "metadata": {
    "collapsed": true
   },
   "outputs": [],
   "source": []
  }
 ],
 "metadata": {
  "kernelspec": {
   "display_name": "Python 3",
   "language": "python",
   "name": "python3"
  },
  "language_info": {
   "codemirror_mode": {
    "name": "ipython",
    "version": 3
   },
   "file_extension": ".py",
   "mimetype": "text/x-python",
   "name": "python",
   "nbconvert_exporter": "python",
   "pygments_lexer": "ipython3",
   "version": "3.6.2"
  },
  "toc": {
   "colors": {
    "hover_highlight": "#DAA520",
    "navigate_num": "#000000",
    "navigate_text": "#333333",
    "running_highlight": "#FF0000",
    "selected_highlight": "#FFD700",
    "sidebar_border": "#EEEEEE",
    "wrapper_background": "#FFFFFF"
   },
   "moveMenuLeft": true,
   "nav_menu": {
    "height": "40px",
    "width": "252px"
   },
   "navigate_menu": true,
   "number_sections": true,
   "sideBar": true,
   "threshold": 4,
   "toc_cell": true,
   "toc_section_display": "block",
   "toc_window_display": false,
   "widenNotebook": false
  }
 },
 "nbformat": 4,
 "nbformat_minor": 2
}
