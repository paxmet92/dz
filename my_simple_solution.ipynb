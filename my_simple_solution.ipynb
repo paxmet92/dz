{
 "cells": [
  {
   "cell_type": "code",
   "execution_count": 125,
   "metadata": {
    "collapsed": true
   },
   "outputs": [],
   "source": [
    "# объявим где хранятся исходные данные\n",
    "PATH_TRAIN = 'input/train.csv'\n",
    "PATH_TEST = 'input/test.csv'"
   ]
  },
  {
   "cell_type": "code",
   "execution_count": 126,
   "metadata": {
    "collapsed": true
   },
   "outputs": [],
   "source": [
    "# объявим куда сохраним результат\n",
    "PATH_PRED = 'pred.csv'"
   ]
  },
  {
   "cell_type": "code",
   "execution_count": 127,
   "metadata": {
    "collapsed": true
   },
   "outputs": [],
   "source": [
    "import codecs"
   ]
  },
  {
   "cell_type": "code",
   "execution_count": 128,
   "metadata": {
    "collapsed": true
   },
   "outputs": [],
   "source": [
    "## Из тренировочного набора собираем статистику о встречаемости слов\n",
    "\n",
    "# создаем словарь для хранения статистики\n",
    "word_stat_dict = {}"
   ]
  },
  {
   "cell_type": "code",
   "execution_count": 129,
   "metadata": {},
   "outputs": [
    {
     "data": {
      "text/plain": [
       "'Id,Sample,Prediction\\n'"
      ]
     },
     "execution_count": 129,
     "metadata": {},
     "output_type": "execute_result"
    }
   ],
   "source": [
    "# открываем файл на чтение в режиме текста\n",
    "fl = codecs.open(PATH_TRAIN, 'r', encoding='utf8')\n",
    "\n",
    "# считываем первую строчку - заголовок (она нам не нужна)\n",
    "fl.readline()"
   ]
  },
  {
   "cell_type": "code",
   "execution_count": 130,
   "metadata": {},
   "outputs": [],
   "source": [
    "# в цикле читаем строчки из файла\n",
    "i=0\n",
    "all_words = {}\n",
    "for line in fl:\n",
    "    # разбиваем строчку на три строковые переменные\n",
    "    Id, Sample, Prediction = line.strip().split(',')\n",
    "    # строковая переменная Prediction - содержит в себе словосочетание из 2 слов, разделим их\n",
    "\n",
    "    #word01, word02 = Sample.split(' ')\n",
    "    word1, word2 = Prediction.split(' ')\n",
    "    \n",
    "    \n",
    "    # all_words словарь всех слов с их частотами\n",
    "    if word2 not in all_words:\n",
    "        all_words[word2] = 0\n",
    "    all_words[word2] += 1\n",
    "    \n",
    "    # word_stat_dict - словарь, где ключ это первое слово, а значение это словарь вторых слов, где value это частоты второго слова после первого\n",
    "    if word1 not in word_stat_dict:\n",
    "        word_stat_dict[word1] = {}\n",
    "    # если текущее слово еще не встречалось, то добавим его в словарь и установим счетчик этого слова в 0\n",
    "    if word2 not in word_stat_dict[word1]:\n",
    "        word_stat_dict[word1][word2] = 0\n",
    "    # увеличим значение счетчика по текущему слову на 1\n",
    "    word_stat_dict[word1][word2] += 1\n"
   ]
  },
  {
   "cell_type": "code",
   "execution_count": 131,
   "metadata": {
    "collapsed": true
   },
   "outputs": [],
   "source": [
    "# закрываем файл\n",
    "fl.close()"
   ]
  },
  {
   "cell_type": "code",
   "execution_count": 134,
   "metadata": {},
   "outputs": [
    {
     "data": {
      "text/plain": [
       "82346"
      ]
     },
     "execution_count": 134,
     "metadata": {},
     "output_type": "execute_result"
    }
   ],
   "source": [
    "len(word_stat_dict)\n",
    "len(all_words)"
   ]
  },
  {
   "cell_type": "code",
   "execution_count": 135,
   "metadata": {},
   "outputs": [],
   "source": [
    "a=[['a','b','c'],[1,2,3]]\n",
    "sorted_all_words = dict()\n",
    "for j in sorted(all_words):\n",
    "    sorted_all_words[j] = all_words[j]"
   ]
  },
  {
   "cell_type": "code",
   "execution_count": 136,
   "metadata": {},
   "outputs": [
    {
     "data": {
      "text/plain": [
       "('его', 8899)"
      ]
     },
     "execution_count": 136,
     "metadata": {},
     "output_type": "execute_result"
    }
   ],
   "source": [
    "count = 0\n",
    "for i in sorted_all_words.keys():\n",
    "    if sorted_all_words[i]>count:\n",
    "        count = sorted_all_words[i]\n",
    "        frequent_word = i\n",
    "frequent_word, count"
   ]
  },
  {
   "cell_type": "code",
   "execution_count": 137,
   "metadata": {},
   "outputs": [],
   "source": [
    "## Выполняем предсказание\n",
    "\n",
    "# открываем файл на чтение в режиме текста\n",
    "fl = codecs.open(PATH_TEST, 'r', encoding='utf8')\n",
    "\n",
    "# считываем первую строчку - заголовок (она нам не нужна)\n",
    "fl.readline()\n",
    "# открываем файл на запись в режиме текста\n",
    "out_fl = codecs.open(PATH_PRED, 'w',encoding='utf8')\n",
    "\n",
    "# записываем заголовок таблицы\n",
    "out_fl.write('Id,Prediction\\n')\n",
    "# в цикле читаем строчки из тестового файла\n",
    "for line in fl:\n",
    "    # разбиваем строчку на две строковые переменные\n",
    "    Id, Sample = line.strip().split(',')\n",
    "    # строковая переменная Sample содержит в себе полностью первое слово и кусок второго слова, разделим их\n",
    "    word1, word2_chunk = Sample.split(' ')\n",
    "   \n",
    "    \n",
    "    word_pred=''\n",
    "    count = 0\n",
    "    \n",
    "    # flag = 1 нашли в word_stat_dict\n",
    "    flag = 1\n",
    "    # совпадение первых слов\n",
    "    if word1 in word_stat_dict:\n",
    "        #поиск совпадений начал вторых слов\n",
    "        for i in word_stat_dict[word1].keys():\n",
    "            if word2_chunk == i[:len(word2_chunk)]:\n",
    "                if word_stat_dict[word1][i]>count:\n",
    "                    count = word_stat_dict[word1][i]\n",
    "                    word_pred = i\n",
    "            else:\n",
    "                if count>0:\n",
    "                    break\n",
    "                    \n",
    "    # если в word_stat_dict не нашли\n",
    "    if count == 0:\n",
    "        flag = 0\n",
    "        for i in sorted_all_words.keys():\n",
    "            if word2_chunk == i[:len(word2_chunk)]:\n",
    "                if sorted_all_words[i]>count:\n",
    "                    count = sorted_all_words[i]\n",
    "                    word_pred = i\n",
    "            else:\n",
    "                if count>0:\n",
    "                    break\n",
    "\n",
    "\n",
    "    # если не нашли, пишем наиболее часто встречающееся слово\n",
    "    if count == 0:\n",
    "        word_pred = frequent_word\n",
    "\n",
    "    # записываем в word_stat_dict новое словосочетание\n",
    "    if flag == 0:\n",
    "        if word1 not in word_stat_dict:\n",
    "            word_stat_dict[word1] = {}\n",
    "        word_stat_dict[word1][word_pred] = 1\n",
    "\n",
    "    \n",
    "    #запись ответа в файл\n",
    "    out_fl.write('%s,%s %s\\n' % (Id, word1, word_pred))\n",
    "        \n",
    "# закрываем файлы\n",
    "fl.close()\n",
    "out_fl.close()"
   ]
  },
  {
   "cell_type": "code",
   "execution_count": null,
   "metadata": {
    "collapsed": true
   },
   "outputs": [],
   "source": []
  }
 ],
 "metadata": {
  "kernelspec": {
   "display_name": "Python 3",
   "language": "python",
   "name": "python3"
  },
  "language_info": {
   "codemirror_mode": {
    "name": "ipython",
    "version": 3
   },
   "file_extension": ".py",
   "mimetype": "text/x-python",
   "name": "python",
   "nbconvert_exporter": "python",
   "pygments_lexer": "ipython3",
   "version": "3.6.2"
  }
 },
 "nbformat": 4,
 "nbformat_minor": 2
}
